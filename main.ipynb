{
 "cells": [
  {
   "cell_type": "code",
   "execution_count": 1,
   "id": "52225feb",
   "metadata": {},
   "outputs": [
    {
     "name": "stdout",
     "output_type": "stream",
     "text": [
      "/grad/sguotong/.conda/envs/.cavGZ_venv/bin/python\n"
     ]
    }
   ],
   "source": [
    "import sys\n",
    "print(sys.executable)"
   ]
  },
  {
   "cell_type": "code",
   "execution_count": 31,
   "id": "c999e96c",
   "metadata": {},
   "outputs": [
    {
     "name": "stdout",
     "output_type": "stream",
     "text": [
      "BesselJZeros (m,n): \n",
      "\n",
      "k |  J_0(x) |  J_1(x) |  J_2(x) |  J_3(x) |  J_4(x) |  J_5(x) |\n",
      "\n",
      "1 | 2.40483 | 3.83171 | 5.13562 | 6.38016 | 7.58834 | 8.77148 |\n",
      "2 | 5.52008 | 7.01559 | 8.41724 | 9.76102 | 11.06471 | 12.33860 |\n",
      "3 | 8.65373 | 10.17347 | 11.61984 | 13.01520 | 14.37254 | 15.70017 |\n",
      "4 | 11.79153 | 13.32369 | 14.79595 | 16.22347 | 17.61597 | 18.98013 |\n",
      "5 | 14.93092 | 16.47063 | 17.95982 | 19.40942 | 20.82693 | 22.21780 |\n",
      "\n",
      " https://mathworld.wolfram.com/BesselFunctionZeros.html\n"
     ]
    }
   ],
   "source": [
    "from bessel import initialize_bessel_table, BesselJZeros, BesselJpZeros\n",
    "initialize_bessel_table(10, 10)\n",
    "\n",
    "# print out a table of BesselJZeros\n",
    "print(\"BesselJZeros (m,n): \\n\")\n",
    "print(\"k |  J_0(x) |  J_1(x) |  J_2(x) |  J_3(x) |  J_4(x) |  J_5(x) |\\n\")\n",
    "for n in range(1, 6):\n",
    "    str_out = f\"{n} |\"\n",
    "    for m in range(0, 6):\n",
    "        str_out += f\" {BesselJZeros(m, n):.5f} |\"\n",
    "\n",
    "    print(str_out)\n",
    "\n",
    "print(\"\\n https://mathworld.wolfram.com/BesselFunctionZeros.html\")"
   ]
  },
  {
   "cell_type": "code",
   "execution_count": null,
   "id": "32fe8d71",
   "metadata": {},
   "outputs": [],
   "source": [
    "from cavity_modes import CavityModeHelper\n",
    "import numpy as np\n",
    "\n",
    "initialize_bessel_table(m_max=10, n_max=10)\n",
    "\n",
    "helper = CavityModeHelper(a=0.05, L=0.2, c=1.0)\n",
    "\n",
    "Er, Ephi, Ez = helper.mode_functions(\"TM\", m=1, n=2, p=0, sign=\"+\")\n",
    "# Evaluate on arrays; broadcasting works\n",
    "r = np.linspace(0, 0.05, 200)\n",
    "phi = np.linspace(0, 2*np.pi, 256)[:, None]   # shape (256, 1)\n",
    "z = np.linspace(0, 0.2, 128)[None, None, :]   # shape (1, 1, 128)\n",
    "Er_vals = Er(r[None, :, None], phi, z)        # resulting shape (256, 200, 128)"
   ]
  }
 ],
 "metadata": {
  "kernelspec": {
   "display_name": ".cavGZ_venv",
   "language": "python",
   "name": "python3"
  },
  "language_info": {
   "codemirror_mode": {
    "name": "ipython",
    "version": 3
   },
   "file_extension": ".py",
   "mimetype": "text/x-python",
   "name": "python",
   "nbconvert_exporter": "python",
   "pygments_lexer": "ipython3",
   "version": "3.12.11"
  }
 },
 "nbformat": 4,
 "nbformat_minor": 5
}
