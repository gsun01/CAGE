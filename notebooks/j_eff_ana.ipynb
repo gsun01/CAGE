{
 "cells": [
  {
   "cell_type": "code",
   "execution_count": 1,
   "id": "d062ea72",
   "metadata": {},
   "outputs": [],
   "source": [
    "import sympy as sp\n",
    "# from sympy import *\n",
    "\n",
    "# ----- Symbols -----\n",
    "alpha, beta, psi = sp.symbols('alpha beta psi', real=True)   # GW direction & pol angle\n",
    "omega = sp.symbols('omega', positive=True, real=True)        # GW angular frequency\n",
    "t = sp.symbols('t', real=True)\n",
    "\n",
    "# Strain amplitudes (time-dependent, keep symbolic)\n",
    "h_plus  = sp.symbols('h_+')\n",
    "h_cross = sp.symbols('h_\\\\times')\n",
    "\n",
    "# helicity basis\n",
    "h_p2, h_m2 = sp.symbols('h_+2 h_-2')\n",
    "\n",
    "# Lab/PD spatial coordinates and vectors\n",
    "x, y, z = sp.symbols('x y z', real=True)\n",
    "r, phi = sp.symbols('r phi', real=True)  # cylindrical coords\n",
    "X = sp.Matrix([x, y, z])\n",
    "\n",
    "# ----- GW direction and transverse basis (in lab/PD axes) -----\n",
    "# nx = sp.sin(beta)*sp.cos(alpha)\n",
    "# ny = sp.sin(beta)*sp.sin(alpha)\n",
    "# nz = sp.cos(beta)\n",
    "\n",
    "n_x, n_y, n_z = sp.symbols('n_x n_y n_z', real=True)\n",
    "n = sp.Matrix([n_x, n_y, n_z])\n",
    "\n",
    "# # Spherical tangent basis at n̂\n",
    "# th = sp.Matrix([sp.cos(beta)*sp.cos(alpha), sp.cos(beta)*sp.sin(alpha), -sp.sin(beta)])\n",
    "# ph = sp.Matrix([-sp.sin(alpha),             sp.cos(alpha),              0])\n",
    "\n",
    "# # Rotate by polarization angle ψ about n̂ to get (p,q)\n",
    "# p =  th*sp.cos(psi) + ph*sp.sin(psi)\n",
    "# q = -th*sp.sin(psi) + ph*sp.cos(psi)\n",
    "\n",
    "# # ----- Polarization tensors in lab/PD basis -----\n",
    "# e_plus  = sp.Matrix([[p[i]*p[j] - q[i]*q[j] for j in range(3)] for i in range(3)])\n",
    "# e_cross = sp.Matrix([[p[i]*q[j] + q[i]*p[j] for j in range(3)] for i in range(3)])\n",
    "\n",
    "exx_p, exy_p, exz_p, eyy_p, eyz_p, ezz_p = sp.symbols('e_xx^+ e_xy^+ e_xz^+ e_yy^+ e_yz^+ e_zz^+', real=True)\n",
    "exx_c, exy_c, exz_c, eyy_c, eyz_c, ezz_c = sp.symbols('e_xx^\\\\times e_xy^\\\\times e_xz^\\\\times' \\\n",
    "'                                                    e_yy^\\\\times e_yz^\\\\times e_zz^\\\\times', real=True)\n",
    "\n",
    "e_plus = sp.Matrix([[exx_p, exy_p, exz_p],\n",
    "                   [exy_p, eyy_p, eyz_p],\n",
    "                  [exz_p, eyz_p, ezz_p]])\n",
    "\n",
    "e_cross = sp.Matrix([[exx_c, exy_c, exz_c],\n",
    "                    [exy_c, eyy_c, eyz_c],\n",
    "                    [exz_c, eyz_c, ezz_c]])\n",
    "\n",
    "# Combine pols with (symbolic) strains\n",
    "hTT = h_plus*e_plus + h_cross*e_cross   # S_ij ≡ Σ_A h_A e^A_ij\n",
    "berlin = {alpha:0, beta:0, psi:0,\n",
    "          n_x:0, n_y:0, n_z:1,\n",
    "          exx_p:1,eyy_p:-1,ezz_p:0,exy_p:0,exz_p:0,eyz_p:0,\n",
    "          exx_c:0,eyy_c:0,ezz_c:0,exy_c:1,exz_c:0,eyz_c:0} # hTT_ij(i,j).subs(berlin) gives on axis GW result in Berlin\n",
    "\n",
    "\n",
    "cart2cyl = {x:r*sp.cos(phi), y:r*sp.sin(phi), z:z}\n",
    "\n",
    "\n",
    "\n",
    "Q = sp.symbols('Q', positive=True)\n",
    "F0, F1, F2 = sp.symbols('F0 F1 F2', real=True)\n",
    "F0p, F1p, F2p = sp.symbols('F0p F1p F2p', real=True)\n",
    "\n",
    "# helpers\n",
    "ndotx = Q/omega\n",
    "hx    = hTT*X                       # (S·x)_i\n",
    "nhx   = n.dot(hx)                  # n · (S·x)\n",
    "S = hx.dot(X)\n",
    "\n",
    "def hTT_ij(i, j):\n",
    "    return hTT[i-1, j-1]\n",
    "def hTT_ijxj(i):\n",
    "    return hx[i-1]\n",
    "\n",
    "def V_i(i):\n",
    "    ni = n[i-1]\n",
    "    return ndotx*hTT_ijxj(i) - ni*S\n",
    "def T_ij(i, j):\n",
    "    ni = n[i-1]\n",
    "    nj = n[j-1]\n",
    "    return ndotx*nj*hTT_ijxj(i)+ndotx*ni*hTT_ijxj(j)-ni*nj*S-(ndotx**2)*hTT_ij(i, j)\n",
    "\n",
    "Tii = T_ij(1,1) + T_ij(2,2) + T_ij(3,3)\n",
    "\n",
    "def ni_hTT_ij(j):\n",
    "    return n[0]*hTT_ij(1, j) + n[1]*hTT_ij(2, j) + n[2]*hTT_ij(3, j)\n",
    "\n",
    "def dmTii(m):\n",
    "    nm = n[m-1]\n",
    "    return 2*omega**2*(ndotx*ni_hTT_ij(m)-hTT_ijxj(m)+nm*nhx)\n",
    "\n",
    "# partial derivatives of PD frame h_uv components and trace\n",
    "\n",
    "def d0h_0i(i):\n",
    "    ni = n[i-1]\n",
    "    return -1.0j*omega*(-omega**2*F1*(ndotx*hTT_ijxj(i)-ni*S))\n",
    "\n",
    "def dmh_00(m):\n",
    "    return -2*omega**2*hTT_ijxj(m)*F0-omega**2*S*F0p*n[m-1]*omega\n",
    "\n",
    "def dmh_0i(m, i):\n",
    "    nm = n[m-1]\n",
    "    ni = n[i-1]\n",
    "    return -omega**2*F1*(ndotx*hTT_ij(m,i)+nm*hTT_ijxj(i)-2*ni*hTT_ijxj(m))-omega**2*V_i(i)*F1p*nm*omega\n",
    "\n",
    "def dmh_ij(m, i, j):\n",
    "    nm = n[m-1]\n",
    "    ni = n[i-1]\n",
    "    nj = n[j-1]\n",
    "    return omega**2*F2*((nm*nj*hTT_ijxj(i)+nm*ni*hTT_ijxj(j)-2*ni*nj*hTT_ijxj(m)) + ndotx*(ni*hTT_ij(j,m)+nj*hTT_ij(i,m)-2*nm*hTT_ij(i,j))) + omega**2*T_ij(i, j)*F2p*nm*omega\n",
    "\n",
    "def dmh_trace(m):\n",
    "    # return -dmh_00(m) + dmh_ij(m,1,1) + dmh_ij(m,2,2) + dmh_ij(m,3,3)\n",
    "    return 0"
   ]
  },
  {
   "cell_type": "markdown",
   "id": "85d6b050",
   "metadata": {},
   "source": [
    "Symbolic J0"
   ]
  },
  {
   "cell_type": "code",
   "execution_count": 2,
   "id": "031d4e3e",
   "metadata": {},
   "outputs": [],
   "source": [
    "j0_over_Bw2 = ((dmh_0i(1,2)-dmh_0i(2,1))/omega**2).expand().subs(cart2cyl).collect([h_plus, h_cross])\n",
    "j0_p = j0_over_Bw2.coeff(h_plus).collect([F1*Q, 3*F1, F1p*Q])\n",
    "j0_c = j0_over_Bw2.coeff(h_cross).collect([F1*Q, 3*F1, F1p*Q])"
   ]
  },
  {
   "cell_type": "code",
   "execution_count": 3,
   "id": "187a78d2",
   "metadata": {},
   "outputs": [
    {
     "data": {
      "text/latex": [
       "$\\displaystyle \\left(3 F_{1} + F1p Q\\right) \\left(e^{+}_{xx} n_{y} r \\cos{\\left(\\phi \\right)} - e^{+}_{xy} n_{x} r \\cos{\\left(\\phi \\right)} + e^{+}_{xy} n_{y} r \\sin{\\left(\\phi \\right)} + e^{+}_{xz} n_{y} z - e^{+}_{yy} n_{x} r \\sin{\\left(\\phi \\right)} - e^{+}_{yz} n_{x} z\\right)$"
      ],
      "text/plain": [
       "(3*F1 + F1p*Q)*(e_xx^+*n_y*r*cos(phi) - e_xy^+*n_x*r*cos(phi) + e_xy^+*n_y*r*sin(phi) + e_xz^+*n_y*z - e_yy^+*n_x*r*sin(phi) - e_yz^+*n_x*z)"
      ]
     },
     "execution_count": 3,
     "metadata": {},
     "output_type": "execute_result"
    }
   ],
   "source": [
    "j0_p = j0_p.simplify()\n",
    "j0_c = j0_c.simplify()\n",
    "\n",
    "j0_p"
   ]
  },
  {
   "cell_type": "markdown",
   "id": "cd9593e6",
   "metadata": {},
   "source": [
    "Symbolic Jx"
   ]
  },
  {
   "cell_type": "code",
   "execution_count": 4,
   "id": "1dfd2eb0",
   "metadata": {},
   "outputs": [],
   "source": [
    "jx_over_Bw2 = ((-0.5*dmh_trace(2)-d0h_0i(2)+dmh_ij(2,2,2)+dmh_ij(3,3,2)+dmh_ij(2,1,1))/omega**2)         \\\n",
    "                .subs(cart2cyl).expand().collect([h_plus, h_cross])\n",
    "# jx_over_Bw2 = ((dmh_ij(1,2,1)+d0h_0i(2)-dmh_ij(3,3,2)-dmh_ij(2,1,1))/omega**2).subs(cart2cyl).expand().collect([h_plus, h_cross])\n",
    "jx_p = jx_over_Bw2.coeff(h_plus).collect([F1*Q, F1, F2, F2*Q, F2p, F2p*Q, F2p*Q*Q])\n",
    "jx_c = jx_over_Bw2.coeff(h_cross).collect([F1*Q, F1, F2, F2*Q, F2p, F2p*Q, F2p*Q*Q])"
   ]
  },
  {
   "cell_type": "markdown",
   "id": "e02cd45a",
   "metadata": {},
   "source": [
    "Symbolic Jy"
   ]
  },
  {
   "cell_type": "code",
   "execution_count": 5,
   "id": "f95f8a23",
   "metadata": {},
   "outputs": [],
   "source": [
    "jy_over_Bw2 = ((0.5*dmh_trace(1)+d0h_0i(1)-dmh_ij(1,1,1)-dmh_ij(3,3,1)-dmh_ij(1,2,2))/omega**2)    \\\n",
    "                .subs(cart2cyl).expand().collect([h_plus, h_cross])\n",
    "# jy_over_Bw2 = ((2*dmh_ij(1,1,1)-d0h_0i(1)+dmh_ij(2,2,1)+dmh_ij(3,3,1)\n",
    "#              +dmh_ij(1,2,2))/omega**2).subs(cart2cyl).expand().collect([h_plus, h_cross])\n",
    "jy_p = jy_over_Bw2.coeff(h_plus).collect([F1*Q, F1, F2, F2*Q, F2p, F2p*Q, F2p*Q*Q])\n",
    "jy_c = jy_over_Bw2.coeff(h_cross).collect([F1*Q, F1, F2, F2*Q, F2p, F2p*Q, F2p*Q*Q])"
   ]
  },
  {
   "cell_type": "markdown",
   "id": "924bfa3d",
   "metadata": {},
   "source": [
    "(Jx, Jy) -> (Jr, Jphi)"
   ]
  },
  {
   "cell_type": "code",
   "execution_count": 6,
   "id": "8c67e909",
   "metadata": {},
   "outputs": [],
   "source": [
    "jr_over_Bw2 = jx_over_Bw2*sp.cos(phi) + jy_over_Bw2*sp.sin(phi)\n",
    "jphi_over_Bw2 = -jx_over_Bw2*sp.sin(phi) + jy_over_Bw2*sp.cos(phi)\n",
    "\n",
    "jr_p = jr_over_Bw2.expand().coeff(h_plus).collect([F1*Q,F1,F2*Q,F2,F2p,F2p*Q,F2p*Q*Q]).collect([exx_p, \n",
    "            exy_p, exz_p, eyy_p, eyz_p, ezz_p])\n",
    "jr_c = jr_over_Bw2.expand().coeff(h_cross).collect([F1*Q,F1,F2*Q,F2,F2p,F2p*Q,F2p*Q*Q]).collect([exx_c, \n",
    "            exy_c, exz_c, eyy_c, eyz_c, ezz_c])\n",
    "\n",
    "jphi_p = jphi_over_Bw2.expand().coeff(h_plus).collect([F1*Q,F1,F2*Q,F2,F2p,F2p*Q,F2p*Q*Q]).collect([exx_p, \n",
    "            exy_p, exz_p, eyy_p, eyz_p, ezz_p])\n",
    "jphi_c = jphi_over_Bw2.expand().coeff(h_cross).collect([F1*Q,F1,F2*Q,F2,F2p,F2p*Q,F2p*Q*Q]).collect([exx_c, \n",
    "            exy_c, exz_c, eyy_c, eyz_c, ezz_c])"
   ]
  },
  {
   "cell_type": "code",
   "execution_count": 7,
   "id": "059636bc",
   "metadata": {},
   "outputs": [
    {
     "data": {
      "text/latex": [
       "$\\displaystyle e^{+}_{xx} \\left(1.0 i F_{1} Q r \\sin{\\left(\\phi \\right)} \\cos{\\left(\\phi \\right)} - 1.0 i F_{1} n_{x} \\omega r^{2} \\sin{\\left(\\phi \\right)} \\cos^{2}{\\left(\\phi \\right)} + 1.0 i F_{1} n_{y} \\omega r^{2} \\cos^{3}{\\left(\\phi \\right)} - \\frac{2 F_{2} Q n_{y} \\cos{\\left(\\phi \\right)}}{\\omega} + 2 F_{2} n_{x} n_{y} r \\cos^{2}{\\left(\\phi \\right)} + 2 F_{2} n_{y}^{2} r \\sin{\\left(\\phi \\right)} \\cos{\\left(\\phi \\right)} - F_{2} n_{z}^{2} r \\sin{\\left(\\phi \\right)} \\cos{\\left(\\phi \\right)} + \\frac{F2p Q^{2} n_{x} \\sin{\\left(\\phi \\right)}}{\\omega} - \\frac{F2p Q^{2} n_{y} \\cos{\\left(\\phi \\right)}}{\\omega} - 2 F2p Q n_{x}^{2} r \\sin{\\left(\\phi \\right)} \\cos{\\left(\\phi \\right)} + 2 F2p Q n_{x} n_{y} r \\cos^{2}{\\left(\\phi \\right)} - F2p Q n_{z}^{2} r \\sin{\\left(\\phi \\right)} \\cos{\\left(\\phi \\right)} + F2p n_{x}^{3} \\omega r^{2} \\sin{\\left(\\phi \\right)} \\cos^{2}{\\left(\\phi \\right)} - F2p n_{x}^{2} n_{y} \\omega r^{2} \\cos^{3}{\\left(\\phi \\right)} + F2p n_{x} n_{y}^{2} \\omega r^{2} \\sin{\\left(\\phi \\right)} \\cos^{2}{\\left(\\phi \\right)} + F2p n_{x} n_{z}^{2} \\omega r^{2} \\sin{\\left(\\phi \\right)} \\cos^{2}{\\left(\\phi \\right)} - F2p n_{y}^{3} \\omega r^{2} \\cos^{3}{\\left(\\phi \\right)} - F2p n_{y} n_{z}^{2} \\omega r^{2} \\cos^{3}{\\left(\\phi \\right)}\\right) + e^{+}_{xy} \\left(1.0 i F_{1} Q r \\sin^{2}{\\left(\\phi \\right)} - 1.0 i F_{1} Q r \\cos^{2}{\\left(\\phi \\right)} - 2.0 i F_{1} n_{x} \\omega r^{2} \\sin^{2}{\\left(\\phi \\right)} \\cos{\\left(\\phi \\right)} + 2.0 i F_{1} n_{y} \\omega r^{2} \\sin{\\left(\\phi \\right)} \\cos^{2}{\\left(\\phi \\right)} + \\frac{2 F_{2} Q n_{x} \\cos{\\left(\\phi \\right)}}{\\omega} - \\frac{2 F_{2} Q n_{y} \\sin{\\left(\\phi \\right)}}{\\omega} - 2 F_{2} n_{x}^{2} r \\cos^{2}{\\left(\\phi \\right)} + 2 F_{2} n_{y}^{2} r \\sin^{2}{\\left(\\phi \\right)} - F_{2} n_{z}^{2} r \\sin^{2}{\\left(\\phi \\right)} + F_{2} n_{z}^{2} r \\cos^{2}{\\left(\\phi \\right)} - 2 F2p Q n_{x}^{2} r \\sin^{2}{\\left(\\phi \\right)} + 2 F2p Q n_{y}^{2} r \\cos^{2}{\\left(\\phi \\right)} - F2p Q n_{z}^{2} r \\sin^{2}{\\left(\\phi \\right)} + F2p Q n_{z}^{2} r \\cos^{2}{\\left(\\phi \\right)} + 2 F2p n_{x}^{3} \\omega r^{2} \\sin^{2}{\\left(\\phi \\right)} \\cos{\\left(\\phi \\right)} - 2 F2p n_{x}^{2} n_{y} \\omega r^{2} \\sin{\\left(\\phi \\right)} \\cos^{2}{\\left(\\phi \\right)} + 2 F2p n_{x} n_{y}^{2} \\omega r^{2} \\sin^{2}{\\left(\\phi \\right)} \\cos{\\left(\\phi \\right)} + 2 F2p n_{x} n_{z}^{2} \\omega r^{2} \\sin^{2}{\\left(\\phi \\right)} \\cos{\\left(\\phi \\right)} - 2 F2p n_{y}^{3} \\omega r^{2} \\sin{\\left(\\phi \\right)} \\cos^{2}{\\left(\\phi \\right)} - 2 F2p n_{y} n_{z}^{2} \\omega r^{2} \\sin{\\left(\\phi \\right)} \\cos^{2}{\\left(\\phi \\right)}\\right) + e^{+}_{xz} \\left(1.0 i F_{1} Q z \\sin{\\left(\\phi \\right)} - 2.0 i F_{1} n_{x} \\omega r z \\sin{\\left(\\phi \\right)} \\cos{\\left(\\phi \\right)} + 2.0 i F_{1} n_{y} \\omega r z \\cos^{2}{\\left(\\phi \\right)} + \\frac{F_{2} Q n_{z} \\sin{\\left(\\phi \\right)}}{\\omega} + 2 F_{2} n_{x} n_{y} z \\cos{\\left(\\phi \\right)} + F_{2} n_{x} n_{z} r \\sin{\\left(\\phi \\right)} \\cos{\\left(\\phi \\right)} + 2 F_{2} n_{y}^{2} z \\sin{\\left(\\phi \\right)} - F_{2} n_{y} n_{z} r \\cos^{2}{\\left(\\phi \\right)} - F_{2} n_{z}^{2} z \\sin{\\left(\\phi \\right)} + \\frac{F2p Q^{2} n_{z} \\sin{\\left(\\phi \\right)}}{\\omega} - 2 F2p Q n_{x}^{2} z \\sin{\\left(\\phi \\right)} + 2 F2p Q n_{x} n_{y} z \\cos{\\left(\\phi \\right)} - F2p Q n_{x} n_{z} r \\sin{\\left(\\phi \\right)} \\cos{\\left(\\phi \\right)} + F2p Q n_{y} n_{z} r \\cos^{2}{\\left(\\phi \\right)} - F2p Q n_{z}^{2} z \\sin{\\left(\\phi \\right)} + 2 F2p n_{x}^{3} \\omega r z \\sin{\\left(\\phi \\right)} \\cos{\\left(\\phi \\right)} - 2 F2p n_{x}^{2} n_{y} \\omega r z \\cos^{2}{\\left(\\phi \\right)} + 2 F2p n_{x} n_{y}^{2} \\omega r z \\sin{\\left(\\phi \\right)} \\cos{\\left(\\phi \\right)} + 2 F2p n_{x} n_{z}^{2} \\omega r z \\sin{\\left(\\phi \\right)} \\cos{\\left(\\phi \\right)} - 2 F2p n_{y}^{3} \\omega r z \\cos^{2}{\\left(\\phi \\right)} - 2 F2p n_{y} n_{z}^{2} \\omega r z \\cos^{2}{\\left(\\phi \\right)}\\right) + e^{+}_{yy} \\left(- 1.0 i F_{1} Q r \\sin{\\left(\\phi \\right)} \\cos{\\left(\\phi \\right)} - 1.0 i F_{1} n_{x} \\omega r^{2} \\sin^{3}{\\left(\\phi \\right)} + 1.0 i F_{1} n_{y} \\omega r^{2} \\sin^{2}{\\left(\\phi \\right)} \\cos{\\left(\\phi \\right)} + \\frac{2 F_{2} Q n_{x} \\sin{\\left(\\phi \\right)}}{\\omega} - 2 F_{2} n_{x}^{2} r \\sin{\\left(\\phi \\right)} \\cos{\\left(\\phi \\right)} - 2 F_{2} n_{x} n_{y} r \\sin^{2}{\\left(\\phi \\right)} + F_{2} n_{z}^{2} r \\sin{\\left(\\phi \\right)} \\cos{\\left(\\phi \\right)} + \\frac{F2p Q^{2} n_{x} \\sin{\\left(\\phi \\right)}}{\\omega} - \\frac{F2p Q^{2} n_{y} \\cos{\\left(\\phi \\right)}}{\\omega} - 2 F2p Q n_{x} n_{y} r \\sin^{2}{\\left(\\phi \\right)} + 2 F2p Q n_{y}^{2} r \\sin{\\left(\\phi \\right)} \\cos{\\left(\\phi \\right)} + F2p Q n_{z}^{2} r \\sin{\\left(\\phi \\right)} \\cos{\\left(\\phi \\right)} + F2p n_{x}^{3} \\omega r^{2} \\sin^{3}{\\left(\\phi \\right)} - F2p n_{x}^{2} n_{y} \\omega r^{2} \\sin^{2}{\\left(\\phi \\right)} \\cos{\\left(\\phi \\right)} + F2p n_{x} n_{y}^{2} \\omega r^{2} \\sin^{3}{\\left(\\phi \\right)} + F2p n_{x} n_{z}^{2} \\omega r^{2} \\sin^{3}{\\left(\\phi \\right)} - F2p n_{y}^{3} \\omega r^{2} \\sin^{2}{\\left(\\phi \\right)} \\cos{\\left(\\phi \\right)} - F2p n_{y} n_{z}^{2} \\omega r^{2} \\sin^{2}{\\left(\\phi \\right)} \\cos{\\left(\\phi \\right)}\\right) + e^{+}_{yz} \\left(- 1.0 i F_{1} Q z \\cos{\\left(\\phi \\right)} - 2.0 i F_{1} n_{x} \\omega r z \\sin^{2}{\\left(\\phi \\right)} + 2.0 i F_{1} n_{y} \\omega r z \\sin{\\left(\\phi \\right)} \\cos{\\left(\\phi \\right)} - \\frac{F_{2} Q n_{z} \\cos{\\left(\\phi \\right)}}{\\omega} - 2 F_{2} n_{x}^{2} z \\cos{\\left(\\phi \\right)} - 2 F_{2} n_{x} n_{y} z \\sin{\\left(\\phi \\right)} + F_{2} n_{x} n_{z} r \\sin^{2}{\\left(\\phi \\right)} - F_{2} n_{y} n_{z} r \\sin{\\left(\\phi \\right)} \\cos{\\left(\\phi \\right)} + F_{2} n_{z}^{2} z \\cos{\\left(\\phi \\right)} - \\frac{F2p Q^{2} n_{z} \\cos{\\left(\\phi \\right)}}{\\omega} - 2 F2p Q n_{x} n_{y} z \\sin{\\left(\\phi \\right)} - F2p Q n_{x} n_{z} r \\sin^{2}{\\left(\\phi \\right)} + 2 F2p Q n_{y}^{2} z \\cos{\\left(\\phi \\right)} + F2p Q n_{y} n_{z} r \\sin{\\left(\\phi \\right)} \\cos{\\left(\\phi \\right)} + F2p Q n_{z}^{2} z \\cos{\\left(\\phi \\right)} + 2 F2p n_{x}^{3} \\omega r z \\sin^{2}{\\left(\\phi \\right)} - 2 F2p n_{x}^{2} n_{y} \\omega r z \\sin{\\left(\\phi \\right)} \\cos{\\left(\\phi \\right)} + 2 F2p n_{x} n_{y}^{2} \\omega r z \\sin^{2}{\\left(\\phi \\right)} + 2 F2p n_{x} n_{z}^{2} \\omega r z \\sin^{2}{\\left(\\phi \\right)} - 2 F2p n_{y}^{3} \\omega r z \\sin{\\left(\\phi \\right)} \\cos{\\left(\\phi \\right)} - 2 F2p n_{y} n_{z}^{2} \\omega r z \\sin{\\left(\\phi \\right)} \\cos{\\left(\\phi \\right)}\\right) + e^{+}_{zz} \\left(- 1.0 i F_{1} n_{x} \\omega z^{2} \\sin{\\left(\\phi \\right)} + 1.0 i F_{1} n_{y} \\omega z^{2} \\cos{\\left(\\phi \\right)} - \\frac{F_{2} Q n_{x} \\sin{\\left(\\phi \\right)}}{\\omega} + \\frac{F_{2} Q n_{y} \\cos{\\left(\\phi \\right)}}{\\omega} + F_{2} n_{x} n_{z} z \\sin{\\left(\\phi \\right)} - F_{2} n_{y} n_{z} z \\cos{\\left(\\phi \\right)} - F2p Q n_{x} n_{z} z \\sin{\\left(\\phi \\right)} + F2p Q n_{y} n_{z} z \\cos{\\left(\\phi \\right)} + F2p n_{x}^{3} \\omega z^{2} \\sin{\\left(\\phi \\right)} - F2p n_{x}^{2} n_{y} \\omega z^{2} \\cos{\\left(\\phi \\right)} + F2p n_{x} n_{y}^{2} \\omega z^{2} \\sin{\\left(\\phi \\right)} + F2p n_{x} n_{z}^{2} \\omega z^{2} \\sin{\\left(\\phi \\right)} - F2p n_{y}^{3} \\omega z^{2} \\cos{\\left(\\phi \\right)} - F2p n_{y} n_{z}^{2} \\omega z^{2} \\cos{\\left(\\phi \\right)}\\right)$"
      ],
      "text/plain": [
       "e_xx^+*(1.0*I*F1*Q*r*sin(phi)*cos(phi) - 1.0*I*F1*n_x*omega*r**2*sin(phi)*cos(phi)**2 + 1.0*I*F1*n_y*omega*r**2*cos(phi)**3 - 2*F2*Q*n_y*cos(phi)/omega + 2*F2*n_x*n_y*r*cos(phi)**2 + 2*F2*n_y**2*r*sin(phi)*cos(phi) - F2*n_z**2*r*sin(phi)*cos(phi) + F2p*Q**2*n_x*sin(phi)/omega - F2p*Q**2*n_y*cos(phi)/omega - 2*F2p*Q*n_x**2*r*sin(phi)*cos(phi) + 2*F2p*Q*n_x*n_y*r*cos(phi)**2 - F2p*Q*n_z**2*r*sin(phi)*cos(phi) + F2p*n_x**3*omega*r**2*sin(phi)*cos(phi)**2 - F2p*n_x**2*n_y*omega*r**2*cos(phi)**3 + F2p*n_x*n_y**2*omega*r**2*sin(phi)*cos(phi)**2 + F2p*n_x*n_z**2*omega*r**2*sin(phi)*cos(phi)**2 - F2p*n_y**3*omega*r**2*cos(phi)**3 - F2p*n_y*n_z**2*omega*r**2*cos(phi)**3) + e_xy^+*(1.0*I*F1*Q*r*sin(phi)**2 - 1.0*I*F1*Q*r*cos(phi)**2 - 2.0*I*F1*n_x*omega*r**2*sin(phi)**2*cos(phi) + 2.0*I*F1*n_y*omega*r**2*sin(phi)*cos(phi)**2 + 2*F2*Q*n_x*cos(phi)/omega - 2*F2*Q*n_y*sin(phi)/omega - 2*F2*n_x**2*r*cos(phi)**2 + 2*F2*n_y**2*r*sin(phi)**2 - F2*n_z**2*r*sin(phi)**2 + F2*n_z**2*r*cos(phi)**2 - 2*F2p*Q*n_x**2*r*sin(phi)**2 + 2*F2p*Q*n_y**2*r*cos(phi)**2 - F2p*Q*n_z**2*r*sin(phi)**2 + F2p*Q*n_z**2*r*cos(phi)**2 + 2*F2p*n_x**3*omega*r**2*sin(phi)**2*cos(phi) - 2*F2p*n_x**2*n_y*omega*r**2*sin(phi)*cos(phi)**2 + 2*F2p*n_x*n_y**2*omega*r**2*sin(phi)**2*cos(phi) + 2*F2p*n_x*n_z**2*omega*r**2*sin(phi)**2*cos(phi) - 2*F2p*n_y**3*omega*r**2*sin(phi)*cos(phi)**2 - 2*F2p*n_y*n_z**2*omega*r**2*sin(phi)*cos(phi)**2) + e_xz^+*(1.0*I*F1*Q*z*sin(phi) - 2.0*I*F1*n_x*omega*r*z*sin(phi)*cos(phi) + 2.0*I*F1*n_y*omega*r*z*cos(phi)**2 + F2*Q*n_z*sin(phi)/omega + 2*F2*n_x*n_y*z*cos(phi) + F2*n_x*n_z*r*sin(phi)*cos(phi) + 2*F2*n_y**2*z*sin(phi) - F2*n_y*n_z*r*cos(phi)**2 - F2*n_z**2*z*sin(phi) + F2p*Q**2*n_z*sin(phi)/omega - 2*F2p*Q*n_x**2*z*sin(phi) + 2*F2p*Q*n_x*n_y*z*cos(phi) - F2p*Q*n_x*n_z*r*sin(phi)*cos(phi) + F2p*Q*n_y*n_z*r*cos(phi)**2 - F2p*Q*n_z**2*z*sin(phi) + 2*F2p*n_x**3*omega*r*z*sin(phi)*cos(phi) - 2*F2p*n_x**2*n_y*omega*r*z*cos(phi)**2 + 2*F2p*n_x*n_y**2*omega*r*z*sin(phi)*cos(phi) + 2*F2p*n_x*n_z**2*omega*r*z*sin(phi)*cos(phi) - 2*F2p*n_y**3*omega*r*z*cos(phi)**2 - 2*F2p*n_y*n_z**2*omega*r*z*cos(phi)**2) + e_yy^+*(-1.0*I*F1*Q*r*sin(phi)*cos(phi) - 1.0*I*F1*n_x*omega*r**2*sin(phi)**3 + 1.0*I*F1*n_y*omega*r**2*sin(phi)**2*cos(phi) + 2*F2*Q*n_x*sin(phi)/omega - 2*F2*n_x**2*r*sin(phi)*cos(phi) - 2*F2*n_x*n_y*r*sin(phi)**2 + F2*n_z**2*r*sin(phi)*cos(phi) + F2p*Q**2*n_x*sin(phi)/omega - F2p*Q**2*n_y*cos(phi)/omega - 2*F2p*Q*n_x*n_y*r*sin(phi)**2 + 2*F2p*Q*n_y**2*r*sin(phi)*cos(phi) + F2p*Q*n_z**2*r*sin(phi)*cos(phi) + F2p*n_x**3*omega*r**2*sin(phi)**3 - F2p*n_x**2*n_y*omega*r**2*sin(phi)**2*cos(phi) + F2p*n_x*n_y**2*omega*r**2*sin(phi)**3 + F2p*n_x*n_z**2*omega*r**2*sin(phi)**3 - F2p*n_y**3*omega*r**2*sin(phi)**2*cos(phi) - F2p*n_y*n_z**2*omega*r**2*sin(phi)**2*cos(phi)) + e_yz^+*(-1.0*I*F1*Q*z*cos(phi) - 2.0*I*F1*n_x*omega*r*z*sin(phi)**2 + 2.0*I*F1*n_y*omega*r*z*sin(phi)*cos(phi) - F2*Q*n_z*cos(phi)/omega - 2*F2*n_x**2*z*cos(phi) - 2*F2*n_x*n_y*z*sin(phi) + F2*n_x*n_z*r*sin(phi)**2 - F2*n_y*n_z*r*sin(phi)*cos(phi) + F2*n_z**2*z*cos(phi) - F2p*Q**2*n_z*cos(phi)/omega - 2*F2p*Q*n_x*n_y*z*sin(phi) - F2p*Q*n_x*n_z*r*sin(phi)**2 + 2*F2p*Q*n_y**2*z*cos(phi) + F2p*Q*n_y*n_z*r*sin(phi)*cos(phi) + F2p*Q*n_z**2*z*cos(phi) + 2*F2p*n_x**3*omega*r*z*sin(phi)**2 - 2*F2p*n_x**2*n_y*omega*r*z*sin(phi)*cos(phi) + 2*F2p*n_x*n_y**2*omega*r*z*sin(phi)**2 + 2*F2p*n_x*n_z**2*omega*r*z*sin(phi)**2 - 2*F2p*n_y**3*omega*r*z*sin(phi)*cos(phi) - 2*F2p*n_y*n_z**2*omega*r*z*sin(phi)*cos(phi)) + e_zz^+*(-1.0*I*F1*n_x*omega*z**2*sin(phi) + 1.0*I*F1*n_y*omega*z**2*cos(phi) - F2*Q*n_x*sin(phi)/omega + F2*Q*n_y*cos(phi)/omega + F2*n_x*n_z*z*sin(phi) - F2*n_y*n_z*z*cos(phi) - F2p*Q*n_x*n_z*z*sin(phi) + F2p*Q*n_y*n_z*z*cos(phi) + F2p*n_x**3*omega*z**2*sin(phi) - F2p*n_x**2*n_y*omega*z**2*cos(phi) + F2p*n_x*n_y**2*omega*z**2*sin(phi) + F2p*n_x*n_z**2*omega*z**2*sin(phi) - F2p*n_y**3*omega*z**2*cos(phi) - F2p*n_y*n_z**2*omega*z**2*cos(phi))"
      ]
     },
     "execution_count": 7,
     "metadata": {},
     "output_type": "execute_result"
    }
   ],
   "source": [
    "jr_p = jr_p.expand().collect([exx_p, eyy_p, exy_p, exz_p, eyz_p, ezz_p])\n",
    "jr_c = jr_c.expand().collect([exx_c, eyy_c, exy_c, exz_c, eyz_c, ezz_c])\n",
    "jphi_p = jphi_p.expand().collect([exx_p, eyy_p, exy_p, exz_p, eyz_p, ezz_p])\n",
    "jphi_c = jphi_c.expand().collect([exx_c, eyy_c, exy_c, exz_c, eyz_c, ezz_c])\n",
    "\n",
    "jr_p"
   ]
  },
  {
   "cell_type": "code",
   "execution_count": 8,
   "id": "b54c013c",
   "metadata": {},
   "outputs": [
    {
     "data": {
      "text/latex": [
       "$\\displaystyle 1.0 r \\left(h_{+} \\left(i F_{1} Q \\sin{\\left(2 \\phi \\right)} - F_{2} \\sin{\\left(2 \\phi \\right)} - F2p Q \\sin{\\left(2 \\phi \\right)}\\right) + h_{\\times} \\left(- i F_{1} Q \\cos{\\left(2 \\phi \\right)} + F_{2} \\cos{\\left(2 \\phi \\right)} + F2p Q \\cos{\\left(2 \\phi \\right)}\\right)\\right)$"
      ],
      "text/plain": [
       "1.0*r*(h_+*(I*F1*Q*sin(2*phi) - F2*sin(2*phi) - F2p*Q*sin(2*phi)) + h_\\times*(-I*F1*Q*cos(2*phi) + F2*cos(2*phi) + F2p*Q*cos(2*phi)))"
      ]
     },
     "execution_count": 8,
     "metadata": {},
     "output_type": "execute_result"
    }
   ],
   "source": [
    "jr_over_Bw2.expand().subs(berlin).trigsimp().collect([h_plus, h_cross])"
   ]
  },
  {
   "cell_type": "markdown",
   "id": "1a7411c7",
   "metadata": {},
   "source": [
    "Helicity basis (Berlin eq 24):"
   ]
  },
  {
   "cell_type": "code",
   "execution_count": 9,
   "id": "be20b5a8",
   "metadata": {},
   "outputs": [
    {
     "data": {
      "text/latex": [
       "$\\displaystyle h_{+2} \\left(- 0.5 \\sqrt{2} F_{1} Q r e^{- 2 i \\phi} - 0.5 \\sqrt{2} i F_{2} r e^{- 2 i \\phi} - 0.5 \\sqrt{2} i F2p Q r e^{- 2 i \\phi}\\right) + h_{-2} \\left(0.5 \\sqrt{2} F_{1} Q r e^{2 i \\phi} + 0.5 \\sqrt{2} i F_{2} r e^{2 i \\phi} + 0.5 \\sqrt{2} i F2p Q r e^{2 i \\phi}\\right)$"
      ],
      "text/plain": [
       "h_+2*(-0.5*sqrt(2)*F1*Q*r*exp(-2*I*phi) - 0.5*sqrt(2)*I*F2*r*exp(-2*I*phi) - 0.5*sqrt(2)*I*F2p*Q*r*exp(-2*I*phi)) + h_-2*(0.5*sqrt(2)*F1*Q*r*exp(2*I*phi) + 0.5*sqrt(2)*I*F2*r*exp(2*I*phi) + 0.5*sqrt(2)*I*F2p*Q*r*exp(2*I*phi))"
      ]
     },
     "execution_count": 9,
     "metadata": {},
     "output_type": "execute_result"
    }
   ],
   "source": [
    "write_in_hel_basis = {h_plus:(h_p2+h_m2)/sp.sqrt(2), h_cross:-1j*(h_p2-h_m2)/sp.sqrt(2)}\n",
    "jr_over_Bw2.subs(write_in_hel_basis).expand().rewrite(sp.exp).expand().powsimp().collect([h_p2, h_m2]).subs(berlin)"
   ]
  },
  {
   "cell_type": "code",
   "execution_count": 10,
   "id": "9971fcbb",
   "metadata": {},
   "outputs": [
    {
     "data": {
      "text/latex": [
       "$\\displaystyle h_{+2} \\left(0.5 \\sqrt{2} i F_{1} Q r e^{- 2 i \\phi} - 0.5 \\sqrt{2} F_{2} r e^{- 2 i \\phi} - 0.5 \\sqrt{2} F2p Q r e^{- 2 i \\phi}\\right) + h_{-2} \\left(0.5 \\sqrt{2} i F_{1} Q r e^{2 i \\phi} - 0.5 \\sqrt{2} F_{2} r e^{2 i \\phi} - 0.5 \\sqrt{2} F2p Q r e^{2 i \\phi}\\right)$"
      ],
      "text/plain": [
       "h_+2*(0.5*sqrt(2)*I*F1*Q*r*exp(-2*I*phi) - 0.5*sqrt(2)*F2*r*exp(-2*I*phi) - 0.5*sqrt(2)*F2p*Q*r*exp(-2*I*phi)) + h_-2*(0.5*sqrt(2)*I*F1*Q*r*exp(2*I*phi) - 0.5*sqrt(2)*F2*r*exp(2*I*phi) - 0.5*sqrt(2)*F2p*Q*r*exp(2*I*phi))"
      ]
     },
     "execution_count": 10,
     "metadata": {},
     "output_type": "execute_result"
    }
   ],
   "source": [
    "jphi_over_Bw2.subs(write_in_hel_basis).expand().rewrite(sp.exp).expand().powsimp().collect([h_p2, h_m2]).subs(berlin)"
   ]
  },
  {
   "cell_type": "markdown",
   "id": "710b7813",
   "metadata": {},
   "source": [
    "The F-factors should have matched Berlin eq 25:"
   ]
  },
  {
   "cell_type": "code",
   "execution_count": 11,
   "id": "8964b434",
   "metadata": {},
   "outputs": [
    {
     "data": {
      "text/latex": [
       "$\\displaystyle 1.5 - \\frac{6.0 i e^{- 1.0 i Q}}{Q} - \\frac{12.0 e^{- 1.0 i Q}}{Q^{2}} - \\frac{12.0 i}{Q^{3}} + \\frac{12.0 i e^{- 1.0 i Q}}{Q^{3}}$"
      ],
      "text/plain": [
       "1.5 - 6.0*I*exp(-1.0*I*Q)/Q - 12.0*exp(-1.0*I*Q)/Q**2 - 12.0*I/Q**3 + 12.0*I*exp(-1.0*I*Q)/Q**3"
      ]
     },
     "execution_count": 11,
     "metadata": {},
     "output_type": "execute_result"
    }
   ],
   "source": [
    "f0_Q = (-1j/Q + (1-sp.exp(-1j*Q))/Q**2)\n",
    "f1_Q = (-1j/(2*Q) - sp.exp(-1j*Q)/Q**2 - 1j*(1-sp.exp(-1j*Q))/Q**3)\n",
    "f2_Q = (-(1+sp.exp(-1j*Q))/Q**2 - 2j*(1-sp.exp(-1j*Q))/Q**3)\n",
    "\n",
    "f0p_Q = sp.diff(f0_Q, Q)\n",
    "f1p_Q = sp.diff(f1_Q, Q)\n",
    "f2p_Q = sp.diff(f2_Q, Q)\n",
    "\n",
    "(3j*(Q*f1_Q + 1j*f2_Q + 1j*f2p_Q*Q)).expand().powsimp()"
   ]
  },
  {
   "cell_type": "markdown",
   "id": "11a8b7c6",
   "metadata": {},
   "source": [
    "My first term is +1.5, while Berlin has -3. The rest are the same."
   ]
  },
  {
   "cell_type": "markdown",
   "id": "971fef7a",
   "metadata": {},
   "source": [
    "Symbolic Jz"
   ]
  },
  {
   "cell_type": "code",
   "execution_count": 12,
   "id": "6fcb78dd",
   "metadata": {},
   "outputs": [],
   "source": [
    "jz_over_Bw2 = ((dmh_ij(2,3,1)-dmh_ij(1,3,2))/omega**2).expand().collect([h_plus, h_cross])\n",
    "jz_p = jz_over_Bw2.coeff(h_plus).collect([F2*Q, F2, F2p*Q])\n",
    "jz_c = jz_over_Bw2.coeff(h_cross).collect([F2*Q, F2, F2p*Q])"
   ]
  },
  {
   "cell_type": "code",
   "execution_count": 13,
   "id": "778b2083",
   "metadata": {},
   "outputs": [
    {
     "data": {
      "text/latex": [
       "$\\displaystyle e^{+}_{xx} \\left(3 F_{2} n_{y} n_{z} x + F2p Q n_{y} n_{z} x\\right) + e^{+}_{xy} \\left(- 3 F_{2} n_{x} n_{z} x + 3 F_{2} n_{y} n_{z} y - F2p Q n_{x} n_{z} x + F2p Q n_{y} n_{z} y\\right) + e^{+}_{xz} \\left(- \\frac{3 F_{2} Q n_{y}}{\\omega} + 3 F_{2} n_{y} n_{z} z - \\frac{F2p Q^{2} n_{y}}{\\omega} + F2p Q n_{y} n_{z} z\\right) + e^{+}_{yy} \\left(- 3 F_{2} n_{x} n_{z} y - F2p Q n_{x} n_{z} y\\right) + e^{+}_{yz} \\left(\\frac{3 F_{2} Q n_{x}}{\\omega} - 3 F_{2} n_{x} n_{z} z + \\frac{F2p Q^{2} n_{x}}{\\omega} - F2p Q n_{x} n_{z} z\\right)$"
      ],
      "text/plain": [
       "e_xx^+*(3*F2*n_y*n_z*x + F2p*Q*n_y*n_z*x) + e_xy^+*(-3*F2*n_x*n_z*x + 3*F2*n_y*n_z*y - F2p*Q*n_x*n_z*x + F2p*Q*n_y*n_z*y) + e_xz^+*(-3*F2*Q*n_y/omega + 3*F2*n_y*n_z*z - F2p*Q**2*n_y/omega + F2p*Q*n_y*n_z*z) + e_yy^+*(-3*F2*n_x*n_z*y - F2p*Q*n_x*n_z*y) + e_yz^+*(3*F2*Q*n_x/omega - 3*F2*n_x*n_z*z + F2p*Q**2*n_x/omega - F2p*Q*n_x*n_z*z)"
      ]
     },
     "execution_count": 13,
     "metadata": {},
     "output_type": "execute_result"
    }
   ],
   "source": [
    "jz_p = jz_p.expand().collect([exx_p, eyy_p, exy_p, exz_p, eyz_p, ezz_p])\n",
    "jz_c = jz_c.expand().collect([exx_c, eyy_c, exy_c, exz_c, eyz_c, ezz_c])\n",
    "\n",
    "jz_p"
   ]
  },
  {
   "cell_type": "code",
   "execution_count": 14,
   "id": "d3706a36",
   "metadata": {},
   "outputs": [],
   "source": [
    "e_syms_p = [exx_p, exy_p, exz_p, eyy_p, eyz_p, ezz_p]\n",
    "e_syms_c = [exx_c, exy_c, exz_c, eyy_c, eyz_c, ezz_c]\n",
    "F_monos = [F1, F1*Q, F2, F2*Q, F2p, F2p*Q, F2p*Q**2]\n",
    "\n",
    "def extract_exprs(expr, e_syms, F_monos):\n",
    "    expr = sp.expand(expr)\n",
    "    out = {}\n",
    "    for j, eij in enumerate(e_syms):\n",
    "        part = sp.expand(sp.collect(expr, eij).coeff(eij))\n",
    "        for k, mono in enumerate(F_monos):\n",
    "            c = sp.expand(sp.collect(part, mono).coeff(mono))\n",
    "            if c != 0:\n",
    "                out[(j,k)] = c\n",
    "    return out\n",
    "\n",
    "JR_plus_exprs   = extract_exprs(jr_p,   e_syms_p, F_monos)\n",
    "JPHI_plus_exprs = extract_exprs(jphi_p, e_syms_p, F_monos)\n",
    "JZ_plus_exprs   = extract_exprs(jz_p,   e_syms_p, F_monos)\n",
    "\n",
    "JR_cross_exprs   = extract_exprs(jr_c,   e_syms_c, F_monos)\n",
    "JPHI_cross_exprs = extract_exprs(jphi_c, e_syms_c, F_monos)\n",
    "JZ_cross_exprs   = extract_exprs(jz_c,   e_syms_c, F_monos)\n",
    "\n",
    "import pickle, sympy as sp, numpy as np\n",
    "bundle = {\n",
    "    \"sympy_version\": sp.__version__,\n",
    "    \"numpy_version\": np.__version__,\n",
    "    \"vars\": (\"r\",\"phi\",\"z\",\"n_x\",\"n_y\",\"n_z\",\"Q\",\"omega\"),\n",
    "    \"F_monos\": [\"F1\",\"Q*F1\",\"F2\",\"Q*F2\",\"F2p\",\"Q*F2p\",\"Q**2*F2p\"],\n",
    "    \"JR_plus_exprs\":   JR_plus_exprs,\n",
    "    \"JPHI_plus_exprs\": JPHI_plus_exprs,\n",
    "    \"JZ_plus_exprs\":   JZ_plus_exprs,\n",
    "    \"JR_cross_exprs\":   JR_cross_exprs,\n",
    "    \"JPHI_cross_exprs\": JPHI_cross_exprs,\n",
    "    \"JZ_cross_exprs\":   JZ_cross_exprs\n",
    "}\n",
    "with open(\"/grad/sguotong/projects/CaGe/data/j_eff_expr/j_eff_kernels.pkl\",\"wb\") as f:\n",
    "    pickle.dump(bundle, f)"
   ]
  }
 ],
 "metadata": {
  "kernelspec": {
   "display_name": "cage",
   "language": "python",
   "name": "python3"
  },
  "language_info": {
   "codemirror_mode": {
    "name": "ipython",
    "version": 3
   },
   "file_extension": ".py",
   "mimetype": "text/x-python",
   "name": "python",
   "nbconvert_exporter": "python",
   "pygments_lexer": "ipython3",
   "version": "3.13.9"
  }
 },
 "nbformat": 4,
 "nbformat_minor": 5
}
